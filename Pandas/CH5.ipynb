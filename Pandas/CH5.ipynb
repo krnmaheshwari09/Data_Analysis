{
 "cells": [
  {
   "cell_type": "code",
   "execution_count": null,
   "id": "ec05bd4f-7761-4d60-841f-ad7ae51d44b1",
   "metadata": {},
   "outputs": [],
   "source": [
    "import numpy as np\n",
    "import pandas as pd"
   ]
  },
  {
   "cell_type": "code",
   "execution_count": null,
   "id": "c0bc4a1f-5672-4930-a24d-b3e8ffa740af",
   "metadata": {},
   "outputs": [],
   "source": [
    "obj = pd.Series([2, 6, 7, -10])\n",
    "obj"
   ]
  },
  {
   "cell_type": "code",
   "execution_count": null,
   "id": "5006636b-eb25-4283-84b5-f1c7c7f763e3",
   "metadata": {},
   "outputs": [],
   "source": [
    "obj.array"
   ]
  },
  {
   "cell_type": "code",
   "execution_count": null,
   "id": "0f6326c6-b3bd-4a7f-9646-5aa89ce67375",
   "metadata": {},
   "outputs": [],
   "source": [
    "obj.index"
   ]
  },
  {
   "cell_type": "code",
   "execution_count": null,
   "id": "d510ce25-2b39-48b3-a8df-ebdf8bc0ab2e",
   "metadata": {},
   "outputs": [],
   "source": [
    "obj2 = pd.Series([2, 6, 7, -10, 5], index=[\"d\", \"e\", \"a\", \"b\", \"c\"])\n",
    "obj2"
   ]
  },
  {
   "cell_type": "code",
   "execution_count": null,
   "id": "e5811a87-6dc4-4616-973d-938b67214a15",
   "metadata": {},
   "outputs": [],
   "source": [
    "obj2.index"
   ]
  },
  {
   "cell_type": "code",
   "execution_count": null,
   "id": "d76bd35c-6c6d-4651-8311-b37566533ae2",
   "metadata": {},
   "outputs": [],
   "source": [
    "obj2[\"b\"]"
   ]
  },
  {
   "cell_type": "code",
   "execution_count": null,
   "id": "fecd2829-63fc-45ed-8558-dcd11b06cdfd",
   "metadata": {},
   "outputs": [],
   "source": [
    "obj2[\"b\"] = 8\n",
    "obj2[\"b\"]"
   ]
  },
  {
   "cell_type": "code",
   "execution_count": null,
   "id": "60c60f65-cd0b-4b6a-9046-ca656736be1f",
   "metadata": {},
   "outputs": [],
   "source": [
    "obj2[obj2 > 5]"
   ]
  },
  {
   "cell_type": "code",
   "execution_count": null,
   "id": "9b6dcc86-68ba-4e27-beb0-65137440bc72",
   "metadata": {},
   "outputs": [],
   "source": [
    "obj2*2"
   ]
  },
  {
   "cell_type": "code",
   "execution_count": null,
   "id": "3a761634-d651-4121-94b1-dd25c3b83b98",
   "metadata": {},
   "outputs": [],
   "source": [
    "obj2"
   ]
  },
  {
   "cell_type": "code",
   "execution_count": null,
   "id": "a7916ef6-9b19-46ef-bcfc-05baca4edc08",
   "metadata": {},
   "outputs": [],
   "source": [
    "np.exp(obj2)"
   ]
  },
  {
   "cell_type": "code",
   "execution_count": null,
   "id": "b776c5d7-2e92-4697-b07d-fc5bcde2b0da",
   "metadata": {},
   "outputs": [],
   "source": [
    "\"d\" in obj2"
   ]
  },
  {
   "cell_type": "code",
   "execution_count": null,
   "id": "c5b0a22e-c825-4ce1-b052-4cf35e68ecd1",
   "metadata": {},
   "outputs": [],
   "source": [
    "\"f\" in obj2"
   ]
  },
  {
   "cell_type": "code",
   "execution_count": null,
   "id": "ed9a8598-009f-4d4b-a917-a8f602ae0609",
   "metadata": {},
   "outputs": [],
   "source": [
    "2 in obj2"
   ]
  },
  {
   "cell_type": "code",
   "execution_count": null,
   "id": "ccdf01c9-696d-41ca-9a4e-f8d1ba0392c0",
   "metadata": {},
   "outputs": [],
   "source": [
    "sdata = {\"Ohio\": 35000, \"Texas\": 71000, \"Oregon\": 16000, \"Utah\": 5000}\n",
    "obj3 = pd.Series(sdata)\n",
    "obj3"
   ]
  },
  {
   "cell_type": "code",
   "execution_count": null,
   "id": "e124bd25-97b3-4d72-b80a-bcd259deeb31",
   "metadata": {},
   "outputs": [],
   "source": [
    "obj3.to_dict()"
   ]
  },
  {
   "cell_type": "code",
   "execution_count": null,
   "id": "b5c9b81a-5b36-43f1-8c21-06ea2c5859c3",
   "metadata": {},
   "outputs": [],
   "source": [
    "states = [\"California\", \"Ohio\", \"Oregon\", \"Texas\"]\n",
    "obj4 = pd.Series(sdata, index=states)\n",
    "obj4"
   ]
  },
  {
   "cell_type": "code",
   "execution_count": null,
   "id": "1ff26572-6f1c-4d77-99f2-c9fc0dc17470",
   "metadata": {},
   "outputs": [],
   "source": [
    "pd.isna(obj4)"
   ]
  },
  {
   "cell_type": "code",
   "execution_count": null,
   "id": "fe24a457-98b9-475c-8828-5e86a4d2ba10",
   "metadata": {},
   "outputs": [],
   "source": [
    "pd.isna(obj3)"
   ]
  },
  {
   "cell_type": "code",
   "execution_count": null,
   "id": "a470aff7-0a03-499e-8b37-1e7a113a62ce",
   "metadata": {},
   "outputs": [],
   "source": [
    "pd.notna(obj4)"
   ]
  },
  {
   "cell_type": "code",
   "execution_count": null,
   "id": "f260c4ba-0128-4da3-ad9c-e3cd166e1708",
   "metadata": {},
   "outputs": [],
   "source": [
    "obj4.isna()"
   ]
  },
  {
   "cell_type": "code",
   "execution_count": null,
   "id": "5078b9b7-757a-4053-8047-4418643f3dec",
   "metadata": {},
   "outputs": [],
   "source": [
    "obj3 + obj4"
   ]
  },
  {
   "cell_type": "code",
   "execution_count": null,
   "id": "0bf8648d-4b54-4775-95f0-7924c854977a",
   "metadata": {},
   "outputs": [],
   "source": [
    "obj4.name = \"Population\"\n",
    "obj4.index.name = \"State\"\n",
    "obj4"
   ]
  },
  {
   "cell_type": "code",
   "execution_count": null,
   "id": "506a6b4f-8444-4e69-972b-3ebacdc4b649",
   "metadata": {},
   "outputs": [],
   "source": [
    "obj"
   ]
  },
  {
   "cell_type": "code",
   "execution_count": null,
   "id": "7d185d48-6ef2-4f0a-bbab-486b1a298e26",
   "metadata": {},
   "outputs": [],
   "source": [
    "obj.index = [\"Bob\", \"Steve\", \"Jeff\", \"Ryan\"]\n",
    "obj"
   ]
  },
  {
   "cell_type": "code",
   "execution_count": null,
   "id": "85f42e0e-de58-4bad-ae13-408ec1f35c54",
   "metadata": {},
   "outputs": [],
   "source": [
    "data = {\"state\": [\"Ohio\", \"Ohio\", \"Ohio\", \"Nevada\", \"Nevada\", \"Nevada\"],\n",
    " \"year\": [2000, 2001, 2002, 2001, 2002, 2003],\n",
    " \"pop\": [1.5, 1.7, 3.6, 2.4, 2.9, 3.2]}\n",
    "\n",
    "frame = pd.DataFrame(data)\n",
    "frame"
   ]
  },
  {
   "cell_type": "code",
   "execution_count": null,
   "id": "ae7424e1-3288-4fc2-9356-28aa475439ed",
   "metadata": {},
   "outputs": [],
   "source": [
    "frame.head() #it selects only first five rows."
   ]
  },
  {
   "cell_type": "code",
   "execution_count": null,
   "id": "b22bbd2b-2941-497b-bf32-fe77d7f7b43d",
   "metadata": {},
   "outputs": [],
   "source": [
    "frame.tail() #it selects only last five rows."
   ]
  },
  {
   "cell_type": "code",
   "execution_count": null,
   "id": "e5d69f46-0c33-4725-aad7-f5ce549d5d95",
   "metadata": {},
   "outputs": [],
   "source": [
    "pd.DataFrame(data, columns=[\"year\", \"state\", \"pop\"])"
   ]
  },
  {
   "cell_type": "code",
   "execution_count": null,
   "id": "fba0aa5d-db8e-4868-9cf3-437a120cfc85",
   "metadata": {},
   "outputs": [],
   "source": [
    "frame2 = pd.DataFrame(data, columns=[\"year\", \"state\", \"pop\", \"debt\"])\n",
    "frame2"
   ]
  },
  {
   "cell_type": "code",
   "execution_count": null,
   "id": "0df3b912-2cba-44b5-87cb-89f6f08d03f3",
   "metadata": {},
   "outputs": [],
   "source": [
    "frame2.columns"
   ]
  },
  {
   "cell_type": "code",
   "execution_count": null,
   "id": "6472eacb-1d10-430b-b8c0-56145c6116a6",
   "metadata": {},
   "outputs": [],
   "source": [
    "frame2[\"state\"]"
   ]
  },
  {
   "cell_type": "code",
   "execution_count": null,
   "id": "a9efc66d-e00c-4cb9-80e5-27fccba51039",
   "metadata": {},
   "outputs": [],
   "source": [
    "frame2.year"
   ]
  },
  {
   "cell_type": "code",
   "execution_count": null,
   "id": "1708c36f-568a-4977-9fe8-31c918aa0e59",
   "metadata": {},
   "outputs": [],
   "source": [
    "frame2.loc[1]"
   ]
  },
  {
   "cell_type": "code",
   "execution_count": null,
   "id": "6c57aeae-891c-4558-b4e3-ae8745dc49e0",
   "metadata": {},
   "outputs": [],
   "source": [
    "frame2.iloc[2]"
   ]
  },
  {
   "cell_type": "code",
   "execution_count": null,
   "id": "fdd92c88-a1d9-4821-9671-cdf528fdcdd9",
   "metadata": {},
   "outputs": [],
   "source": [
    "frame2[\"debt\"] = 16.5\n",
    "frame2"
   ]
  },
  {
   "cell_type": "code",
   "execution_count": null,
   "id": "3936119e-c22b-46f7-b86e-bfc8baf63676",
   "metadata": {},
   "outputs": [],
   "source": [
    "frame2[\"debt\"] = np.arange(6.)\n",
    "frame2"
   ]
  },
  {
   "cell_type": "code",
   "execution_count": null,
   "id": "39484f8f-8c9c-42e5-81d7-62ec772006e5",
   "metadata": {},
   "outputs": [],
   "source": [
    "frame2[\"eastern\"] = frame2[\"state\"] == \"Ohio\"\n",
    "frame2"
   ]
  },
  {
   "cell_type": "code",
   "execution_count": null,
   "id": "e554168b-bd07-4270-899c-40f324ec224e",
   "metadata": {},
   "outputs": [],
   "source": [
    "del frame2[\"eastern\"]"
   ]
  },
  {
   "cell_type": "code",
   "execution_count": null,
   "id": "7226145b-4f19-4beb-bb20-0405e402af58",
   "metadata": {},
   "outputs": [],
   "source": [
    "frame2"
   ]
  },
  {
   "cell_type": "code",
   "execution_count": null,
   "id": "d7a72cf1-ff5c-43af-8b05-1e2b9faec750",
   "metadata": {},
   "outputs": [],
   "source": [
    "populations = {\"Ohio\": {2000: 1.5, 2001: 1.7, 2002: 3.6},\n",
    "               \"Nevada\": {2001: 2.4, 2002: 2.9}}\n",
    "frame3 = pd.DataFrame(populations)"
   ]
  },
  {
   "cell_type": "code",
   "execution_count": null,
   "id": "9cc3e79d-6321-41f8-be61-d8beebed7491",
   "metadata": {},
   "outputs": [],
   "source": [
    "frame3"
   ]
  },
  {
   "cell_type": "code",
   "execution_count": null,
   "id": "43ff1266-18bc-407d-9231-c73bf9c059d5",
   "metadata": {},
   "outputs": [],
   "source": [
    "frame3.T"
   ]
  },
  {
   "cell_type": "code",
   "execution_count": null,
   "id": "14e615f6-0f54-4caa-9b85-929f69f08c35",
   "metadata": {},
   "outputs": [],
   "source": [
    "pd.DataFrame(populations, index=[2001, 2002, 2003])"
   ]
  },
  {
   "cell_type": "code",
   "execution_count": null,
   "id": "aace5133-be7a-48f7-9fbd-f12e30328137",
   "metadata": {},
   "outputs": [],
   "source": [
    "frame3.index.name = \"year\"\n",
    "frame3.columns.name = \"state\"\n",
    "frame3"
   ]
  },
  {
   "cell_type": "code",
   "execution_count": null,
   "id": "c9a8368d-1740-4763-b0ee-a78cb129abb0",
   "metadata": {},
   "outputs": [],
   "source": [
    "frame3.to_numpy()"
   ]
  },
  {
   "cell_type": "code",
   "execution_count": null,
   "id": "98766a93-f0ab-40ce-ad98-6d1c8e4d7061",
   "metadata": {},
   "outputs": [],
   "source": [
    "labels = pd.Index(np.arange(3))\n",
    "obj2 = pd.Series([1.5, -2.5, 0.8], index=labels)\n",
    "obj2"
   ]
  },
  {
   "cell_type": "code",
   "execution_count": null,
   "id": "32b6c602-6296-4855-af62-0510330d1f40",
   "metadata": {},
   "outputs": [],
   "source": [
    "obj2.index is labels"
   ]
  },
  {
   "cell_type": "code",
   "execution_count": null,
   "id": "9a4eb8d3-7378-444e-8243-bd32e4e38c31",
   "metadata": {},
   "outputs": [],
   "source": [
    "frame3.columns"
   ]
  },
  {
   "cell_type": "code",
   "execution_count": null,
   "id": "1f396935-9e54-48dc-b5ac-fe200b9b6040",
   "metadata": {},
   "outputs": [],
   "source": [
    "\"Ohio\" in frame3.columns"
   ]
  },
  {
   "cell_type": "code",
   "execution_count": null,
   "id": "c9b08cc4-9f9a-4a2a-b014-80f31812a607",
   "metadata": {},
   "outputs": [],
   "source": [
    "2002 in frame3.index"
   ]
  },
  {
   "cell_type": "code",
   "execution_count": null,
   "id": "49b3dec3-6d08-42a6-b58e-e0a954ebd184",
   "metadata": {},
   "outputs": [],
   "source": [
    "pd.Index([\"foo\", \"foo\", \"bar\", \"bar\"])"
   ]
  },
  {
   "cell_type": "code",
   "execution_count": null,
   "id": "b53a437f-004f-4fd9-8c99-ddd871c68ea9",
   "metadata": {},
   "outputs": [],
   "source": [
    "obj = pd.Series([4.5, 7.2, -5.3, 3.6], index=[\"d\", \"b\", \"a\", \"c\"])\n",
    "obj"
   ]
  },
  {
   "cell_type": "code",
   "execution_count": null,
   "id": "e8cc5625-1a03-4eb8-b89b-7ae82cb6a6f6",
   "metadata": {},
   "outputs": [],
   "source": [
    "obj2 = obj.reindex([\"a\", \"b\", \"c\", \"d\", \"e\"])\n",
    "obj2"
   ]
  },
  {
   "cell_type": "code",
   "execution_count": null,
   "id": "dde4fe1e-b573-4673-99e9-00e44cd98dff",
   "metadata": {},
   "outputs": [],
   "source": [
    "obj3 = pd.Series([\"blue\", \"purple\", \"yellow\"], index=[0, 2, 4])\n",
    "obj3"
   ]
  },
  {
   "cell_type": "code",
   "execution_count": null,
   "id": "f913ddd6-f38e-46bd-8e58-8cc8f8b1f55e",
   "metadata": {},
   "outputs": [],
   "source": [
    "obj3.reindex(np.arange(6), method=\"ffill\")"
   ]
  },
  {
   "cell_type": "code",
   "execution_count": null,
   "id": "9836a659-55a3-4425-8837-21c6e268736f",
   "metadata": {},
   "outputs": [],
   "source": [
    "obj3.reindex(np.arange(6))"
   ]
  },
  {
   "cell_type": "code",
   "execution_count": null,
   "id": "65d2b761-530c-40ea-8a96-2a1f3e31b4bf",
   "metadata": {},
   "outputs": [],
   "source": [
    "frame = pd.DataFrame(np.arange(9).reshape((3,3)), index=[\"a\", \"b\", \"c\"], columns=[\"Ohio\", \"Texas\", \"California\"])\n",
    "frame"
   ]
  },
  {
   "cell_type": "code",
   "execution_count": null,
   "id": "f44f9ecf-2494-4839-aa98-50289482e662",
   "metadata": {},
   "outputs": [],
   "source": [
    "frame2 = frame.reindex(index=[\"a\", \"b\", \"c\", \"d\"])\n",
    "frame2"
   ]
  },
  {
   "cell_type": "code",
   "execution_count": null,
   "id": "62277d57-c480-432f-b950-e944d2777962",
   "metadata": {},
   "outputs": [],
   "source": [
    "states = [\"Texas\", \"Utah\", \"California\"]\n",
    "frame.reindex(columns=states)"
   ]
  },
  {
   "cell_type": "code",
   "execution_count": null,
   "id": "9bc3f8e5-dc88-4b2a-bb53-40d0d2dcb75c",
   "metadata": {},
   "outputs": [],
   "source": [
    "frame.loc[[\"a\", \"b\", \"c\"], [\"California\", \"Texas\"]]"
   ]
  },
  {
   "cell_type": "code",
   "execution_count": null,
   "id": "c6d1347b-a638-4702-8435-51b9955b9e6e",
   "metadata": {},
   "outputs": [],
   "source": [
    "obj = pd.Series(np.arange(5.), index=[\"a\", \"b\", \"c\", \"d\", \"e\"])\n",
    "obj"
   ]
  },
  {
   "cell_type": "code",
   "execution_count": null,
   "id": "1345b897-cf45-40b0-8b5b-8c92d81f5cf1",
   "metadata": {},
   "outputs": [],
   "source": [
    "new_obj = obj.drop(\"c\")\n",
    "new_obj"
   ]
  },
  {
   "cell_type": "code",
   "execution_count": null,
   "id": "ea7a19e9-0116-4755-bed0-6a24a4d29c3a",
   "metadata": {},
   "outputs": [],
   "source": [
    "obj.drop([\"d\", \"c\"])"
   ]
  },
  {
   "cell_type": "code",
   "execution_count": null,
   "id": "767e5a3e-5fe8-4cb0-99da-f6c47571cb9c",
   "metadata": {},
   "outputs": [],
   "source": [
    "data = pd.DataFrame(np.arange(16).reshape((4,4)), index=[\"Ohio\", \"Colorado\", \"Utah\", \"New York\"],\n",
    "                    columns=[\"one\", \"two\", \"three\", \"four\"])\n",
    "data"
   ]
  },
  {
   "cell_type": "code",
   "execution_count": null,
   "id": "37ea16c9-d0b5-4620-a642-9f17af5d2b6e",
   "metadata": {},
   "outputs": [],
   "source": [
    "data.drop(index=[\"Colorado\", \"Ohio\"])"
   ]
  },
  {
   "cell_type": "code",
   "execution_count": null,
   "id": "7491b48d-2cdb-4dec-857f-eead72287076",
   "metadata": {},
   "outputs": [],
   "source": [
    "data.drop(columns=[\"two\"])"
   ]
  },
  {
   "cell_type": "code",
   "execution_count": null,
   "id": "cf9a4fc8-c64a-48f6-a452-1dac0310b3fe",
   "metadata": {},
   "outputs": [],
   "source": [
    "data.drop(\"two\", axis=1)"
   ]
  },
  {
   "cell_type": "code",
   "execution_count": null,
   "id": "afb9298b-885f-4819-856c-b99111b147b3",
   "metadata": {},
   "outputs": [],
   "source": [
    "data.drop([\"two\", \"four\"], axis=\"columns\")"
   ]
  },
  {
   "cell_type": "code",
   "execution_count": null,
   "id": "19a755a1-1ca1-433a-87a1-bd768ec59b80",
   "metadata": {},
   "outputs": [],
   "source": [
    "obj = pd.Series(np.arange(4.), index=[\"a\", \"b\", \"c\", \"d\"])\n",
    "obj"
   ]
  },
  {
   "cell_type": "code",
   "execution_count": null,
   "id": "212bb885-789d-4c66-a4d1-0784e9aa0dee",
   "metadata": {},
   "outputs": [],
   "source": [
    "obj[\"b\"]"
   ]
  },
  {
   "cell_type": "code",
   "execution_count": null,
   "id": "7e263ee5-ef24-49eb-bdb2-95dad661d172",
   "metadata": {},
   "outputs": [],
   "source": [
    "obj.iloc[1]"
   ]
  },
  {
   "cell_type": "code",
   "execution_count": null,
   "id": "d30a784d-7779-4ab3-9f54-16e623e8db1f",
   "metadata": {},
   "outputs": [],
   "source": [
    "obj.iloc[2:4]"
   ]
  },
  {
   "cell_type": "code",
   "execution_count": null,
   "id": "cc028f36-ee24-43c3-a7d7-991cb299088a",
   "metadata": {},
   "outputs": [],
   "source": [
    "obj[[\"b\", \"a\", \"d\"]]"
   ]
  },
  {
   "cell_type": "code",
   "execution_count": null,
   "id": "4e6a1923-7ddf-4c82-aa5b-01c56ee78770",
   "metadata": {},
   "outputs": [],
   "source": [
    "obj.iloc[[1, 3]]"
   ]
  },
  {
   "cell_type": "code",
   "execution_count": null,
   "id": "157be576-4c43-4cd2-a249-d98e888edc55",
   "metadata": {},
   "outputs": [],
   "source": [
    "obj.loc[obj < 2]"
   ]
  },
  {
   "cell_type": "code",
   "execution_count": null,
   "id": "90fcec8a-2a27-41bb-aae3-3535070315c5",
   "metadata": {},
   "outputs": [],
   "source": [
    "obj.loc[\"b\":\"c\"]"
   ]
  },
  {
   "cell_type": "code",
   "execution_count": null,
   "id": "810319a6-b64b-492c-b8e4-2196df8b1248",
   "metadata": {},
   "outputs": [],
   "source": [
    "obj.loc[\"b\":\"c\"] = 5\n",
    "obj"
   ]
  },
  {
   "cell_type": "code",
   "execution_count": null,
   "id": "cea9c1d1-491c-4395-8146-19a2ef4ecee0",
   "metadata": {},
   "outputs": [],
   "source": [
    "data = pd.DataFrame(np.arange(16).reshape((4,4)), index=[\"Ohio\", \"Colorado\", \"Utah\", \"New York\"],\n",
    "                    columns=[\"one\", \"two\", \"three\", \"four\"])\n",
    "data"
   ]
  },
  {
   "cell_type": "code",
   "execution_count": null,
   "id": "50b109b4-61b6-4e29-bc09-e632c6030463",
   "metadata": {},
   "outputs": [],
   "source": [
    "data[\"two\"]"
   ]
  },
  {
   "cell_type": "code",
   "execution_count": null,
   "id": "161e35c6-0434-491f-be13-ef7277b636e1",
   "metadata": {},
   "outputs": [],
   "source": [
    "data[:2]"
   ]
  },
  {
   "cell_type": "code",
   "execution_count": null,
   "id": "57797d03-eb4b-491d-b289-f94126e77636",
   "metadata": {},
   "outputs": [],
   "source": [
    "data[data[\"three\"] > 5]"
   ]
  },
  {
   "cell_type": "code",
   "execution_count": null,
   "id": "a8711b2b-d796-4afe-b17c-29287924af11",
   "metadata": {},
   "outputs": [],
   "source": [
    "data < 5"
   ]
  },
  {
   "cell_type": "code",
   "execution_count": null,
   "id": "bca1ff7b-7d79-4c97-ab70-78868fc47dd6",
   "metadata": {},
   "outputs": [],
   "source": [
    "data[data < 5] = 0\n",
    "data"
   ]
  },
  {
   "cell_type": "code",
   "execution_count": null,
   "id": "624fabd1-0e99-4fa9-9e6d-eed784e607e2",
   "metadata": {},
   "outputs": [],
   "source": [
    "data.loc[\"Colorado\"]"
   ]
  },
  {
   "cell_type": "code",
   "execution_count": null,
   "id": "c8bec7c4-2dbb-4775-80a6-4a6556eafea9",
   "metadata": {},
   "outputs": [],
   "source": [
    "data.loc[[\"Colorado\", \"New York\"]]"
   ]
  },
  {
   "cell_type": "code",
   "execution_count": null,
   "id": "1bdd559a-7293-4e19-9a9d-486b212cb7ca",
   "metadata": {},
   "outputs": [],
   "source": [
    "data.loc[\"Colorado\", [\"two\", \"three\"]]"
   ]
  },
  {
   "cell_type": "code",
   "execution_count": null,
   "id": "46bf5f3f-816a-4172-ad66-0b2f998c7ae5",
   "metadata": {},
   "outputs": [],
   "source": [
    "data.iloc[2]"
   ]
  },
  {
   "cell_type": "code",
   "execution_count": null,
   "id": "defc0d3f-8bd8-448b-8d14-3548f7c19be4",
   "metadata": {},
   "outputs": [],
   "source": [
    "data.iloc[[2, 1]]"
   ]
  },
  {
   "cell_type": "code",
   "execution_count": null,
   "id": "21c94b8a-5675-469f-8fc6-ab31d18dee6c",
   "metadata": {},
   "outputs": [],
   "source": [
    "data.iloc[2, [3, 0, 1]]"
   ]
  },
  {
   "cell_type": "code",
   "execution_count": null,
   "id": "2adb4a3f-9e51-4073-90a2-8220260bdb71",
   "metadata": {},
   "outputs": [],
   "source": [
    "data.iloc[[1,2], [3, 0, 1]]"
   ]
  },
  {
   "cell_type": "code",
   "execution_count": null,
   "id": "acf02ad7-b2e8-419c-9dbd-42b136a6970d",
   "metadata": {},
   "outputs": [],
   "source": [
    "data.iloc[:,:3][data.three > 5]"
   ]
  },
  {
   "cell_type": "code",
   "execution_count": null,
   "id": "8acd8759-afe0-4032-8cdb-1f2c40a6765b",
   "metadata": {},
   "outputs": [],
   "source": [
    "ser = pd.Series(np.arange(3.))\n",
    "ser"
   ]
  },
  {
   "cell_type": "code",
   "execution_count": null,
   "id": "d5586262-b44b-4076-adc3-9d438d2eab57",
   "metadata": {},
   "outputs": [],
   "source": [
    "ser[-1] # it gives an error, because python doesn't know you searching for label or indexing"
   ]
  },
  {
   "cell_type": "code",
   "execution_count": null,
   "id": "ab5d8558-2d43-4a18-bfbf-0b0489958c61",
   "metadata": {},
   "outputs": [],
   "source": [
    "ser.iloc[-1]"
   ]
  },
  {
   "cell_type": "code",
   "execution_count": null,
   "id": "4789d720-f4a1-4536-b5cd-d31cf3781d1c",
   "metadata": {},
   "outputs": [],
   "source": [
    "df1 = pd.DataFrame(np.arange(12.).reshape((3, 4)), columns=list(\"abcd\"))\n",
    "df2 = pd.DataFrame(np.arange(20.).reshape((4, 5)), columns=list(\"abcde\"))\n",
    "df2.loc[1, \"b\"] = np.nan\n",
    "df1"
   ]
  },
  {
   "cell_type": "code",
   "execution_count": null,
   "id": "24287bfc-a222-4270-8747-c4e19caab872",
   "metadata": {},
   "outputs": [],
   "source": [
    "df2"
   ]
  },
  {
   "cell_type": "code",
   "execution_count": null,
   "id": "85c94eba-acad-4279-bfe4-f187d32b52f4",
   "metadata": {},
   "outputs": [],
   "source": [
    "df1 + df2"
   ]
  },
  {
   "cell_type": "code",
   "execution_count": null,
   "id": "813175cf-b00f-43cb-98ac-b2f1ee6e838e",
   "metadata": {},
   "outputs": [],
   "source": [
    "df1.add(df2, fill_value=0)"
   ]
  },
  {
   "cell_type": "code",
   "execution_count": null,
   "id": "9123c3c3-becc-401f-a24e-0207b7c6b63c",
   "metadata": {},
   "outputs": [],
   "source": [
    "1/df1"
   ]
  },
  {
   "cell_type": "code",
   "execution_count": null,
   "id": "38102ff9-9753-497d-9511-9797c9338373",
   "metadata": {},
   "outputs": [],
   "source": [
    "df1.rdiv(1)"
   ]
  },
  {
   "cell_type": "code",
   "execution_count": null,
   "id": "e4f84778-bbb1-459e-8357-a2a332361057",
   "metadata": {},
   "outputs": [],
   "source": [
    "df1.reindex(columns=df2.columns, fill_value=0)"
   ]
  },
  {
   "cell_type": "code",
   "execution_count": null,
   "id": "fc0140bd-d056-4e95-b41b-222c6218e548",
   "metadata": {},
   "outputs": [],
   "source": [
    "arr = np.arange(12.).reshape((3, 4))\n",
    "arr"
   ]
  },
  {
   "cell_type": "code",
   "execution_count": null,
   "id": "01e3f649-6cca-4f36-b6c5-38ef49f710fb",
   "metadata": {},
   "outputs": [],
   "source": [
    "arr[0]"
   ]
  },
  {
   "cell_type": "code",
   "execution_count": null,
   "id": "8b9324b4-b087-45f7-b5cd-912646c452a2",
   "metadata": {},
   "outputs": [],
   "source": [
    "arr - arr[0]"
   ]
  },
  {
   "cell_type": "code",
   "execution_count": null,
   "id": "dda9c662-40ec-47c9-8bb0-92d88d0505ce",
   "metadata": {},
   "outputs": [],
   "source": [
    "frame = pd.DataFrame(np.arange(12.).reshape((4, 3)), columns=list(\"bde\"),\n",
    "                     index=[\"Utah\", \"Ohio\", \"Texas\", \"Oregon\"])\n",
    "series = frame.iloc[0]\n",
    "frame"
   ]
  },
  {
   "cell_type": "code",
   "execution_count": null,
   "id": "f3339eeb-3bdf-49f0-b547-9f4dd8fb37fe",
   "metadata": {},
   "outputs": [],
   "source": [
    "series"
   ]
  },
  {
   "cell_type": "code",
   "execution_count": null,
   "id": "63f4b3b3-bdcd-4283-b8e8-f78ecfc87f7d",
   "metadata": {},
   "outputs": [],
   "source": [
    "frame - series"
   ]
  },
  {
   "cell_type": "code",
   "execution_count": null,
   "id": "83850bd1-bcec-44d5-918b-60eec9afaa6c",
   "metadata": {},
   "outputs": [],
   "source": [
    "series2 = pd.Series(np.arange(3), index=list(\"bef\"))\n",
    "series2"
   ]
  },
  {
   "cell_type": "code",
   "execution_count": null,
   "id": "ddcb37e6-956d-44da-a1ac-c09768084817",
   "metadata": {},
   "outputs": [],
   "source": [
    "frame + series2"
   ]
  },
  {
   "cell_type": "code",
   "execution_count": null,
   "id": "0aeedcbd-fca7-4595-a361-cbbdf382e63d",
   "metadata": {},
   "outputs": [],
   "source": [
    "series3 = frame[\"d\"]\n",
    "series3"
   ]
  },
  {
   "cell_type": "code",
   "execution_count": null,
   "id": "87d4ca9d-84c8-40bc-bbc3-79703e5f0188",
   "metadata": {},
   "outputs": [],
   "source": [
    "frame.sub(series3, axis=\"index\")"
   ]
  },
  {
   "cell_type": "code",
   "execution_count": null,
   "id": "522f1e9b-341f-4231-8b59-27214e08a343",
   "metadata": {},
   "outputs": [],
   "source": [
    "frame = pd.DataFrame(np.random.standard_normal((4, 3)), columns=list(\"bde\"),\n",
    "                     index=[\"Utah\", \"Ohio\", \"Texas\", \"Oregon\"])\n",
    "frame"
   ]
  },
  {
   "cell_type": "code",
   "execution_count": null,
   "id": "5c7a04e1-a4ac-49a2-aa09-12442a7c5507",
   "metadata": {},
   "outputs": [],
   "source": [
    "np.abs(frame)"
   ]
  },
  {
   "cell_type": "code",
   "execution_count": null,
   "id": "f05a0468-2df2-4977-a179-50401c5648e1",
   "metadata": {},
   "outputs": [],
   "source": [
    "def f1(x):\n",
    "    return x.max() - x.min()\n",
    "\n",
    "frame.apply(f1)"
   ]
  },
  {
   "cell_type": "code",
   "execution_count": null,
   "id": "fb8f700f-cff9-454f-ae59-020e4b4e7725",
   "metadata": {},
   "outputs": [],
   "source": [
    "frame.apply(f1, axis=\"columns\")"
   ]
  },
  {
   "cell_type": "code",
   "execution_count": null,
   "id": "91acb5d0-4505-426b-b4e1-453de10c0406",
   "metadata": {},
   "outputs": [],
   "source": [
    "def f2(x):\n",
    "    return pd.Series([x.min(), x.max()], index=[\"min\", \"max\"])\n",
    "\n",
    "frame.apply(f2)"
   ]
  },
  {
   "cell_type": "code",
   "execution_count": null,
   "id": "e3e518aa-ac40-43c2-aebe-b1329d932cb3",
   "metadata": {},
   "outputs": [],
   "source": [
    "def my_format(x):\n",
    "    return f\"{x:.2f}\"\n",
    "\n",
    "frame.map(my_format)"
   ]
  },
  {
   "cell_type": "code",
   "execution_count": null,
   "id": "94b98042-c9ec-437a-a75c-dee4be231790",
   "metadata": {},
   "outputs": [],
   "source": [
    "obj = pd.Series(np.arange(4), index=list(\"dabc\"))\n",
    "obj"
   ]
  },
  {
   "cell_type": "code",
   "execution_count": null,
   "id": "e7ed8c6e-661b-460c-88a8-ea834add06b7",
   "metadata": {},
   "outputs": [],
   "source": [
    "obj.sort_index()"
   ]
  },
  {
   "cell_type": "code",
   "execution_count": null,
   "id": "2b6bc66b-0067-48b9-96c3-733bae00ffd7",
   "metadata": {},
   "outputs": [],
   "source": [
    "frame = pd.DataFrame(np.arange(8).reshape((2, 4)), index=[\"three\", \"one\"], columns=list(\"dabc\"))\n",
    "frame"
   ]
  },
  {
   "cell_type": "code",
   "execution_count": null,
   "id": "fa39318f-782f-4f69-b43b-f3ecd6ad243d",
   "metadata": {},
   "outputs": [],
   "source": [
    "frame.sort_index()"
   ]
  },
  {
   "cell_type": "code",
   "execution_count": null,
   "id": "36722fcc-da9f-4d25-8102-400a37447040",
   "metadata": {},
   "outputs": [],
   "source": [
    "frame.sort_index(axis=\"columns\")"
   ]
  },
  {
   "cell_type": "code",
   "execution_count": null,
   "id": "f8def03a-7c53-4c37-803f-aa898649aec3",
   "metadata": {},
   "outputs": [],
   "source": [
    "frame.sort_index(axis=\"columns\", ascending=False)"
   ]
  },
  {
   "cell_type": "code",
   "execution_count": null,
   "id": "23ee99a7-5e5d-4007-8f1f-ad84b42b15a2",
   "metadata": {},
   "outputs": [],
   "source": [
    "obj = pd.Series([4, 7, -3, 2])\n",
    "obj"
   ]
  },
  {
   "cell_type": "code",
   "execution_count": null,
   "id": "367e1134-a7ea-458e-88ea-e56b022934a4",
   "metadata": {},
   "outputs": [],
   "source": [
    "obj.sort_values()"
   ]
  },
  {
   "cell_type": "code",
   "execution_count": null,
   "id": "fea9d10b-e159-4bd8-bc8d-dd4abb9c4770",
   "metadata": {},
   "outputs": [],
   "source": [
    "obj = pd.Series([4, np.nan, 7, np.nan, -3, 2])\n",
    "obj"
   ]
  },
  {
   "cell_type": "code",
   "execution_count": null,
   "id": "21ead985-ecf5-4974-a2ec-18c220070417",
   "metadata": {},
   "outputs": [],
   "source": [
    "obj.sort_values()"
   ]
  },
  {
   "cell_type": "code",
   "execution_count": null,
   "id": "7f5b87ef-17c5-4916-8d7a-7dc3bf7cf762",
   "metadata": {},
   "outputs": [],
   "source": [
    "obj.sort_values(na_position=\"first\")"
   ]
  },
  {
   "cell_type": "code",
   "execution_count": null,
   "id": "d615f375-9366-4229-a47d-e393f7ef0cc5",
   "metadata": {},
   "outputs": [],
   "source": [
    "frame = pd.DataFrame({\"b\": [4, 7, -3, 2], \"a\": [0, 1, 0, 1]})\n",
    "frame"
   ]
  },
  {
   "cell_type": "code",
   "execution_count": null,
   "id": "8a9c254d-2bbd-4ec9-9402-865eae232530",
   "metadata": {},
   "outputs": [],
   "source": [
    "frame.sort_values(\"b\")"
   ]
  },
  {
   "cell_type": "code",
   "execution_count": null,
   "id": "2a5d6a6b-e485-429f-b935-d64fa68ddbe9",
   "metadata": {},
   "outputs": [],
   "source": [
    "frame.sort_values([\"a\", \"b\"])"
   ]
  },
  {
   "cell_type": "code",
   "execution_count": null,
   "id": "e5046a33-6230-4271-ae05-58a0fc0ae294",
   "metadata": {},
   "outputs": [],
   "source": [
    "obj = pd.Series([7, -5, 7, 4, 2, 0, 4])\n",
    "obj.rank()"
   ]
  },
  {
   "cell_type": "code",
   "execution_count": null,
   "id": "41c96c21-f00a-4dd2-a1af-6668ebf1abc8",
   "metadata": {},
   "outputs": [],
   "source": [
    "obj.rank(method=\"first\")"
   ]
  },
  {
   "cell_type": "code",
   "execution_count": null,
   "id": "25d35967-d524-42d7-8fa1-0d316cb73b1d",
   "metadata": {},
   "outputs": [],
   "source": [
    "obj.rank(ascending=False, method=\"first\")"
   ]
  },
  {
   "cell_type": "code",
   "execution_count": null,
   "id": "33ef858c-4b8d-4ccb-81e3-fc768f3da7cb",
   "metadata": {},
   "outputs": [],
   "source": [
    "frame = pd.DataFrame({\"b\": [4.3, 7, -3, 2], \"a\": [0, 1, 0, 1], \"c\": [-2, 5, 8, -2.5]})\n",
    "frame"
   ]
  },
  {
   "cell_type": "code",
   "execution_count": null,
   "id": "44a05460-0e79-4f9b-8a33-4763da13bec3",
   "metadata": {},
   "outputs": [],
   "source": [
    "frame.rank(axis=\"columns\")"
   ]
  },
  {
   "cell_type": "code",
   "execution_count": null,
   "id": "fda5e30c-855c-4861-9db3-df4b2ca3ab39",
   "metadata": {},
   "outputs": [],
   "source": [
    "obj = pd.Series(np.arange(5), index=list(\"aabbc\"))\n",
    "obj"
   ]
  },
  {
   "cell_type": "code",
   "execution_count": null,
   "id": "b8714044-4ddf-43c3-9c1d-4be85314f905",
   "metadata": {},
   "outputs": [],
   "source": [
    "obj.index.is_unique"
   ]
  },
  {
   "cell_type": "code",
   "execution_count": null,
   "id": "68783104-f6c6-4848-a258-88da79abb96a",
   "metadata": {},
   "outputs": [],
   "source": [
    "obj[\"a\"]"
   ]
  },
  {
   "cell_type": "code",
   "execution_count": null,
   "id": "31a12ab8-e201-4f7c-8ffa-313fc0462754",
   "metadata": {},
   "outputs": [],
   "source": [
    "obj[\"c\"]"
   ]
  },
  {
   "cell_type": "code",
   "execution_count": null,
   "id": "be3831c8-6e67-4aad-a205-149617109ce1",
   "metadata": {},
   "outputs": [],
   "source": [
    "df = pd.DataFrame([[1.4, np.nan], [7.1, -4.5], [np.nan, np.nan], [0.75, -1.3]],\n",
    "                  index=list(\"abcd\"), columns=[\"one\", \"two\"])\n",
    "df"
   ]
  },
  {
   "cell_type": "code",
   "execution_count": null,
   "id": "1bb4b896-0600-42ba-a3bd-294bcf498c71",
   "metadata": {},
   "outputs": [],
   "source": [
    "df.sum()"
   ]
  },
  {
   "cell_type": "code",
   "execution_count": null,
   "id": "133822ab-ad6e-40dd-925c-dda6d3da6c6b",
   "metadata": {},
   "outputs": [],
   "source": [
    "df.sum(axis=\"columns\") # or axis=1"
   ]
  },
  {
   "cell_type": "code",
   "execution_count": null,
   "id": "fb0ed9f0-eb50-47a6-b41a-fb0422d16bde",
   "metadata": {},
   "outputs": [],
   "source": [
    "df.sum(axis=0, skipna=False)"
   ]
  },
  {
   "cell_type": "code",
   "execution_count": null,
   "id": "08841446-e666-4bbc-8ae4-f77150abb74b",
   "metadata": {},
   "outputs": [],
   "source": [
    "df.sum(axis=1, skipna=False)"
   ]
  },
  {
   "cell_type": "code",
   "execution_count": null,
   "id": "70db3a8d-c633-4182-a11f-a1fce58b4627",
   "metadata": {},
   "outputs": [],
   "source": [
    "df.mean(axis=1)"
   ]
  },
  {
   "cell_type": "code",
   "execution_count": null,
   "id": "c797890e-1e04-4bc9-980c-9c8c40f57388",
   "metadata": {},
   "outputs": [],
   "source": [
    "df.idxmax()"
   ]
  },
  {
   "cell_type": "code",
   "execution_count": null,
   "id": "420d7ab1-3d28-44c2-b393-c904d690e8a7",
   "metadata": {},
   "outputs": [],
   "source": [
    "df.cumsum()"
   ]
  },
  {
   "cell_type": "code",
   "execution_count": null,
   "id": "e9edec5d-bbc7-4c28-a694-6b9b4aeeb76b",
   "metadata": {},
   "outputs": [],
   "source": [
    "df.describe()"
   ]
  },
  {
   "cell_type": "code",
   "execution_count": null,
   "id": "eae84371-0287-40c2-add0-8026601b1b6d",
   "metadata": {},
   "outputs": [],
   "source": [
    "obj = pd.Series([\"a\", \"a\", \"b\", \"c\"] * 4)\n",
    "obj"
   ]
  },
  {
   "cell_type": "code",
   "execution_count": null,
   "id": "b8d8fe8d-00ec-48a5-8ebd-4ae6d73ac308",
   "metadata": {},
   "outputs": [],
   "source": [
    "obj.describe()"
   ]
  },
  {
   "cell_type": "code",
   "execution_count": null,
   "id": "e1f83309-ea8f-4d44-a3ae-a85caaf4426d",
   "metadata": {},
   "outputs": [],
   "source": [
    "price = pd.read_pickle(\"D:/Python/Data_analysis/data_Book/examples/yahoo_price.pkl\")\n",
    "volume = pd.read_pickle(\"D:/Python/Data_analysis/data_Book/examples/yahoo_volume.pkl\")"
   ]
  },
  {
   "cell_type": "code",
   "execution_count": null,
   "id": "856a54d2-d418-4206-a357-1336f8e4f065",
   "metadata": {},
   "outputs": [],
   "source": [
    "returns = price.pct_change()\n",
    "returns.tail()"
   ]
  },
  {
   "cell_type": "code",
   "execution_count": null,
   "id": "c78f7bda-907e-4b48-87c5-65205906dfce",
   "metadata": {},
   "outputs": [],
   "source": [
    "returns[\"MSFT\"].corr(returns[\"IBM\"])"
   ]
  },
  {
   "cell_type": "code",
   "execution_count": null,
   "id": "2ab2912a-028d-4126-aa6d-59adaab395bc",
   "metadata": {},
   "outputs": [],
   "source": [
    "returns[\"MSFT\"].cov(returns[\"IBM\"])"
   ]
  },
  {
   "cell_type": "code",
   "execution_count": null,
   "id": "9a501c93-c5dc-4327-8126-be359a59b435",
   "metadata": {},
   "outputs": [],
   "source": [
    "returns.corr()"
   ]
  },
  {
   "cell_type": "code",
   "execution_count": null,
   "id": "c19cff82-876c-41eb-a83d-272d7f0327b6",
   "metadata": {},
   "outputs": [],
   "source": [
    "returns.cov()"
   ]
  },
  {
   "cell_type": "code",
   "execution_count": null,
   "id": "7ce940d0-8d41-4d43-bac5-427ea122bef9",
   "metadata": {},
   "outputs": [],
   "source": [
    "returns.corrwith(returns[\"IBM\"])"
   ]
  },
  {
   "cell_type": "code",
   "execution_count": null,
   "id": "7add96a4-be31-4b53-9e4b-18ffc6ff3b40",
   "metadata": {},
   "outputs": [],
   "source": [
    "returns.corrwith(volume)"
   ]
  },
  {
   "cell_type": "code",
   "execution_count": null,
   "id": "718d9c84-d2fc-422f-b09e-53461505b89a",
   "metadata": {},
   "outputs": [],
   "source": [
    "obj = pd.Series(list(\"cadaabbcc\"))\n",
    "obj"
   ]
  },
  {
   "cell_type": "code",
   "execution_count": null,
   "id": "0cd1cf43-612f-4a2a-9f26-4710fea1bfbd",
   "metadata": {},
   "outputs": [],
   "source": [
    "uniques = obj.unique()\n",
    "uniques"
   ]
  },
  {
   "cell_type": "code",
   "execution_count": null,
   "id": "97f59be0-5bc1-4d6d-92da-d8bf0271f85a",
   "metadata": {},
   "outputs": [],
   "source": [
    "obj.value_counts()"
   ]
  },
  {
   "cell_type": "code",
   "execution_count": null,
   "id": "5d3aadd9-37bd-4d25-94f3-0f11e21c3cac",
   "metadata": {},
   "outputs": [],
   "source": [
    "pd.value_counts(obj.to_numpy(), sort=False)"
   ]
  },
  {
   "cell_type": "code",
   "execution_count": null,
   "id": "1d72ba1b-803c-497b-a57e-674d1e1efd90",
   "metadata": {},
   "outputs": [],
   "source": [
    "mask = obj.isin([\"b\", \"c\"])\n",
    "mask"
   ]
  },
  {
   "cell_type": "code",
   "execution_count": null,
   "id": "6249f987-fc5e-4c8c-b30e-54b4f6223bdd",
   "metadata": {},
   "outputs": [],
   "source": [
    "obj[mask]"
   ]
  },
  {
   "cell_type": "code",
   "execution_count": null,
   "id": "4f1e0175-c6de-468d-a2d7-4ac937826443",
   "metadata": {},
   "outputs": [],
   "source": [
    "to_match = pd.Series([\"c\", \"a\", \"b\", \"b\", \"c\", \"a\"])\n",
    "unique_vals = pd.Series([\"c\", \"b\", \"a\"])\n",
    "indices = pd.Index(unique_vals).get_indexer(to_match)\n",
    "indices"
   ]
  },
  {
   "cell_type": "code",
   "execution_count": null,
   "id": "0524af59-ce5a-4afb-bf1a-43ef86294213",
   "metadata": {},
   "outputs": [],
   "source": [
    "data = pd.DataFrame({\"Qu1\": [1, 3, 4, 3, 4],\n",
    "                     \"Qu2\": [2, 3, 1, 2, 3],\n",
    "                     \"Qu3\": [1, 5, 2, 4, 4]})\n",
    "data"
   ]
  },
  {
   "cell_type": "code",
   "execution_count": null,
   "id": "00bbed36-96be-45f3-b61a-6f7785feaa30",
   "metadata": {},
   "outputs": [],
   "source": [
    "data[\"Qu1\"].value_counts().sort_index()"
   ]
  },
  {
   "cell_type": "code",
   "execution_count": null,
   "id": "301aa031-8fcb-40bc-86eb-320e10273e27",
   "metadata": {},
   "outputs": [],
   "source": [
    "data.apply(pd.value_counts).fillna(0)"
   ]
  },
  {
   "cell_type": "code",
   "execution_count": null,
   "id": "1cc551ae-434c-41a7-9dc4-61a030169cb9",
   "metadata": {},
   "outputs": [],
   "source": [
    "data = pd.DataFrame({\"a\": [1, 1, 1, 2, 2], \"b\": [0, 0, 1, 0, 0]})\n",
    "data"
   ]
  },
  {
   "cell_type": "code",
   "execution_count": null,
   "id": "ba735501-7b5a-4306-851e-073ab4f3ef1b",
   "metadata": {},
   "outputs": [],
   "source": [
    "data.value_counts()"
   ]
  },
  {
   "cell_type": "code",
   "execution_count": null,
   "id": "bed43e5a-5cdc-4c16-babe-c567b354acb0",
   "metadata": {},
   "outputs": [],
   "source": []
  }
 ],
 "metadata": {
  "kernelspec": {
   "display_name": "Python 3 (ipykernel)",
   "language": "python",
   "name": "python3"
  },
  "language_info": {
   "codemirror_mode": {
    "name": "ipython",
    "version": 3
   },
   "file_extension": ".py",
   "mimetype": "text/x-python",
   "name": "python",
   "nbconvert_exporter": "python",
   "pygments_lexer": "ipython3",
   "version": "3.12.0"
  }
 },
 "nbformat": 4,
 "nbformat_minor": 5
}
